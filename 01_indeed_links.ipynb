{
 "cells": [
  {
   "cell_type": "markdown",
   "metadata": {},
   "source": [
    "# Get the resume links"
   ]
  },
  {
   "cell_type": "code",
   "execution_count": null,
   "metadata": {},
   "outputs": [],
   "source": [
    "# months define the work experience at months\n",
    "import os\n",
    "import time\n",
    "import random\n",
    "import sys\n",
    "from selenium import webdriver\n",
    "from selenium.webdriver.common.keys import Keys\n",
    "from bs4 import BeautifulSoup\n",
    "def search_resume(months):\n",
    "    head = 'https://www.indeed.com/resumes?q=data+analyst&co=US&rb=yoe%3A'+ months + '&cb=jt'\n",
    "    driver.get(head)\n",
    "    \n",
    "def get_links(soup):\n",
    "    #get all resume links on a page\n",
    "    #soup = BeautifulSoup('page',lxml)\n",
    "    items = soup.find_all('div', class_='app_name')\n",
    "    links = []\n",
    "    for item in items:\n",
    "        link = item.find('a')\n",
    "        if link:\n",
    "            link = 'https://www.indeed.com' + link['href'] + '\\n'\n",
    "            links.append(link)\n",
    "    return ''.join(links)\n",
    "\n",
    "def save_links(filename):\n",
    "    f = open(filename, 'w')\n",
    "    c = 0\n",
    "\n",
    "    while True:\n",
    "        page = driver.page_source\n",
    "        soup = BeautifulSoup(page, 'lxml')\n",
    "    \n",
    "        f.write(get_links(soup))\n",
    "        time.sleep(5+random.uniform(0.0,2.0))\n",
    "        if soup.find('a', class_='confirm-nav next'):\n",
    "            sys.stdout.write(' P' + str(c))\n",
    "            c += 1\n",
    "            nextpage= driver.find_element_by_xpath('//*[@class=\"confirm-nav next\"]')\n",
    "            nextpage.click()\n",
    "        else:\n",
    "            break\n",
    "    f.close()\n",
    "\n",
    "\n"
   ]
  },
  {
   "cell_type": "code",
   "execution_count": null,
   "metadata": {},
   "outputs": [],
   "source": [
    "chromedriver = 'c:/chromedriver'\n",
    "os.environ['webdriver.chrome.driver'] = chromedriver\n",
    "driver = webdriver.Chrome(chromedriver)\n",
    "\n",
    "months = 'month1-mongth2'\n",
    "search_resume(months)\n",
    "filename = months + '_DA' + '.dat'\n",
    "save_links(filename)\n",
    "time.sleep(100+random.uniform(0,3))"
   ]
  },
  {
   "cell_type": "code",
   "execution_count": null,
   "metadata": {},
   "outputs": [],
   "source": []
  }
 ],
 "metadata": {
  "kernelspec": {
   "display_name": "Python 3",
   "language": "python",
   "name": "python3"
  },
  "language_info": {
   "codemirror_mode": {
    "name": "ipython",
    "version": 3
   },
   "file_extension": ".py",
   "mimetype": "text/x-python",
   "name": "python",
   "nbconvert_exporter": "python",
   "pygments_lexer": "ipython3",
   "version": "3.6.3"
  }
 },
 "nbformat": 4,
 "nbformat_minor": 2
}
