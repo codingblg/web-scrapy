{
 "cells": [
  {
   "cell_type": "markdown",
   "metadata": {},
   "source": [
    "# Get the resumes"
   ]
  },
  {
   "cell_type": "code",
   "execution_count": null,
   "metadata": {},
   "outputs": [],
   "source": [
    "# define a function to get the resume information\n",
    "import time\n",
    "import random\n",
    "from bs4 import BeautifulSoup\n",
    "\n",
    "class resume(object):\n",
    "    \n",
    "    def __init__(self, driver, link):\n",
    "        self.driver = driver\n",
    "        self.link = link\n",
    "        self.driver.get(self.link)\n",
    "        \n",
    "        self.soup = BeautifulSoup(self.driver.page_source, 'lxml')\n",
    "        self.resume_information()\n",
    "    \n",
    "    def resume_information(self):\n",
    "        self.information = {}\n",
    "        self.information['index'] = self.index()\n",
    "        self.information['title'] = self.title()\n",
    "        self.information['headline'] = self.headline()\n",
    "        self.information['location'] = self.locality()\n",
    "        #information['summary'] = self.summary()\n",
    "        self.information['work_experience'] = self.experience()\n",
    "        self.information['education'] = self.education()\n",
    "        self.information['skills'] = self.skills()\n",
    "        self.information['addtional_information'] =self.additional()\n",
    "    \n",
    "    def index(self):\n",
    "        try:\n",
    "            return self.soup.find('meta',{'name':'resumeId'})['content']\n",
    "        except:\n",
    "            return 'NA'\n",
    "        \n",
    "    def title(self):\n",
    "        try:\n",
    "            return self.soup.find('h1', id='resume-contact').text.strip(' \\n')\n",
    "        except:\n",
    "            return 'NA'\n",
    "    def headline(self):\n",
    "        try:\n",
    "            return self.soup.find('h2', id='headline').text\n",
    "        except:\n",
    "            return 'NA'\n",
    "    def locality(self):\n",
    "        try:\n",
    "            return self.soup.find('p', id='headline_location').text\n",
    "        except:\n",
    "            return 'NA'\n",
    "    def skills(self):\n",
    "        try:\n",
    "            all_skills = self.soup.find('div', class_='skill-container resume-element').text\n",
    "            return [skill for skill in all_skills.split(', ')]\n",
    "        except:\n",
    "            return 'NA'\n",
    "    def experience(self):\n",
    "        try:\n",
    "            #exps_rep = re.complie('workExperience-\\w+')\n",
    "            \n",
    "            exps_list = self.soup.find_all('div', class_='work-experience-section')\n",
    "            exps = []\n",
    "            for exp in exps_list:\n",
    "                dict1 = {}\n",
    "                dict1['title'] = exp.find('p', class_='work_title title').text\n",
    "                dict1['company'] = exp.find('div', class_='work_company').text\n",
    "                dict1['dates'] = exp.find('p', class_='work_dates').text\n",
    "                dict1['description'] = exp.find('p', class_='work_description').text\n",
    "                exps.append(dict1)\n",
    "            return exps\n",
    "        except:\n",
    "            return 'NA'\n",
    "    def education(self):\n",
    "        try:\n",
    "            edus_list = self.soup.find_all('div', class_='education-section')\n",
    "            edus = []\n",
    "            for edu in edus_list:\n",
    "                dict1 = {}\n",
    "                dict1['title'] = edu.find('p', class_='edu_title').text\n",
    "                dict1['school'] = edu.find('div', class_='edu_school').text\n",
    "                dict1['dates'] = edu.find('p', class_='edu_dates').text\n",
    "                edus.append(dict1)\n",
    "            return edus\n",
    "        except:\n",
    "            return 'NA'\n",
    "    def additional(self):\n",
    "        try:\n",
    "            return self.soup.find('div', id='additionalinfo-section').text\n",
    "        except:\n",
    "            return 'NA'"
   ]
  },
  {
   "cell_type": "code",
   "execution_count": null,
   "metadata": {},
   "outputs": [],
   "source": [
    "# open a chrome by selenium for automation\n",
    "from selenium import webdriver\n",
    "from selenium.webdriver.chrome.options import Options\n",
    "import time\n",
    "import os\n",
    "import json\n",
    "chrome_options = Options()\n",
    "chrome_options.add_argument('--dns-prefetch-disable')\n",
    "chromedriver = 'c:\\chromedriver'\n",
    "os.environ['webdriver.chrome.driver'] = chromedriver\n",
    "driver = webdriver.Chrome(chromedriver,chrome_options=chrome_options)"
   ]
  },
  {
   "cell_type": "code",
   "execution_count": null,
   "metadata": {},
   "outputs": [],
   "source": [
    "# read the link one by one\n",
    "def read_lines(filename):\n",
    "    f = open(filename, 'r')\n",
    "    lines = f.readlines()\n",
    "    f.close()\n",
    "    print(len(lines))\n",
    "    return lines"
   ]
  },
  {
   "cell_type": "code",
   "execution_count": null,
   "metadata": {
    "scrolled": true
   },
   "outputs": [],
   "source": [
    "#  open the links and store to different json file\n",
    "import sys\n",
    "def obtain_resume(lines):\n",
    "    for i in range(250,len(lines)):\n",
    "        link = lines[i]\n",
    "        if i%10 == 0:\n",
    "            time.sleep(30+random.uniform(0,3))\n",
    "        else:\n",
    "            time.sleep(3+random.uniform(0,3))\n",
    "        resume_r = resume(driver,link)\n",
    "        data = resume_r.information\n",
    "\n",
    "        with open(data['index']+'.json', 'w') as fp:\n",
    "            json.dump(data, fp)\n",
    "\n",
    "        sys.stdout.write('L' + str(i))"
   ]
  },
  {
   "cell_type": "code",
   "execution_count": null,
   "metadata": {
    "scrolled": true
   },
   "outputs": [],
   "source": [
    "#  call functions\n",
    "lines = read_lines('filename.dat')\n",
    "obtain_resume(lines)"
   ]
  }
 ],
 "metadata": {
  "kernelspec": {
   "display_name": "Python 3",
   "language": "python",
   "name": "python3"
  },
  "language_info": {
   "codemirror_mode": {
    "name": "ipython",
    "version": 3
   },
   "file_extension": ".py",
   "mimetype": "text/x-python",
   "name": "python",
   "nbconvert_exporter": "python",
   "pygments_lexer": "ipython3",
   "version": "3.6.3"
  }
 },
 "nbformat": 4,
 "nbformat_minor": 2
}
